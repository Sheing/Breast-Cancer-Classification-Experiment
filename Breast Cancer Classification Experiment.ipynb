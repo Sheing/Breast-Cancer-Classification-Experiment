{
 "cells": [
  {
   "cell_type": "markdown",
   "metadata": {},
   "source": [
    "Name:Sheing Jing Ng (Stanley)\n",
    "ID: 100206278\n",
    "Date Started: 10/18/2016\n",
    "\n",
    "Part 1: CLASSIFICATION EXPERIMENT\n",
    "\n",
    "(5 points) Pick some data suitable for classification learning that we haven't already used for this class. In your write-up briefly summarize the data set including the predictive columns and the target column(s). Briefly describe any data preparation you performed (and say why you did it).\n",
    "\n",
    "Dataset Name: Breast Cancer Wisconsin\n",
    "Citation: This breast cancer databases was obtained from the University of Wisconsin Hospitals, Madison from Dr. William H. Wolberg.\n",
    "Source Link: https://archive.ics.uci.edu/ml/machine-learning-databases/breast-cancer-wisconsin\n",
    "\n",
    "I picked this datasets for classification experiment because it is a real life problem for medical diagnosis applied to breast cytology. In the past, a lot people are misdiagnosed or diagnosed at later stage due to insufficient tools to identify the patient's situation. By using machine learning, we can increase the classfication performance and predict a more accurate diagnosis based on available patient's information.\n",
    "\n",
    "In this dataset, we have:\n",
    "\n",
    "  Attribute                     Domain\n",
    "   -- -----------------------------------------\n",
    "   1. Sample code number            id number\n",
    "   2. Clump Thickness               1 - 10\n",
    "   3. Uniformity of Cell Size       1 - 10\n",
    "   4. Uniformity of Cell Shape      1 - 10\n",
    "   5. Marginal Adhesion             1 - 10\n",
    "   6. Single Epithelial Cell Size   1 - 10\n",
    "   7. Bare Nuclei                   1 - 10\n",
    "   8. Bland Chromatin               1 - 10\n",
    "   9. Normal Nucleoli               1 - 10\n",
    "  10. Mitoses                       1 - 10\n",
    "  11. Class:                        (2 for benign, 4 for malignant)\n",
    "  \n",
    "\n",
    "Data Cleaning:\n",
    "Missing attribute values: 16\n",
    "\n",
    "There are 16 instances in Groups 1 to 6 that contain a single missing \n",
    "(i.e., unavailable) attribute value, are denoted by \"?\". \n",
    "\n",
    "I replaced the \"?\" value in the datasets to mean value of the column.\n",
    "\n",
    "Target Columns:\n",
    "I selected all the attributes from 1-10 as my target column for training.\n",
    "\n",
    "Predictive Columns:\n",
    "I selected the last attribute: Class as my predictive column. \n",
    "TO classify if the patient's symptoms is under benign or malignant.\n",
    "    "
   ]
  },
  {
   "cell_type": "code",
   "execution_count": 1,
   "metadata": {
    "collapsed": false
   },
   "outputs": [
    {
     "name": "stderr",
     "output_type": "stream",
     "text": [
      "//anaconda/lib/python3.5/site-packages/sklearn/cross_validation.py:44: DeprecationWarning: This module was deprecated in version 0.18 in favor of the model_selection module into which all the refactored classes and functions are moved. Also note that the interface of the new CV iterators are different from that of this module. This module will be removed in 0.20.\n",
      "  \"This module will be removed in 0.20.\", DeprecationWarning)\n"
     ]
    },
    {
     "name": "stdout",
     "output_type": "stream",
     "text": [
      "          id  clump_thickness  size_uniformity  shape_uniformity  \\\n",
      "0    1000025                5                1                 1   \n",
      "1    1002945                5                4                 4   \n",
      "2    1015425                3                1                 1   \n",
      "3    1016277                6                8                 8   \n",
      "4    1017023                4                1                 1   \n",
      "5    1017122                8               10                10   \n",
      "6    1018099                1                1                 1   \n",
      "7    1018561                2                1                 2   \n",
      "8    1033078                2                1                 1   \n",
      "9    1033078                4                2                 1   \n",
      "10   1035283                1                1                 1   \n",
      "11   1036172                2                1                 1   \n",
      "12   1041801                5                3                 3   \n",
      "13   1043999                1                1                 1   \n",
      "14   1044572                8                7                 5   \n",
      "15   1047630                7                4                 6   \n",
      "16   1048672                4                1                 1   \n",
      "17   1049815                4                1                 1   \n",
      "18   1050670               10                7                 7   \n",
      "19   1050718                6                1                 1   \n",
      "20   1054590                7                3                 2   \n",
      "21   1054593               10                5                 5   \n",
      "22   1056784                3                1                 1   \n",
      "23   1057013                8                4                 5   \n",
      "24   1059552                1                1                 1   \n",
      "25   1065726                5                2                 3   \n",
      "26   1066373                3                2                 1   \n",
      "27   1066979                5                1                 1   \n",
      "28   1067444                2                1                 1   \n",
      "29   1070935                1                1                 3   \n",
      "..       ...              ...              ...               ...   \n",
      "669  1350423                5               10                10   \n",
      "670  1352848                3               10                 7   \n",
      "671  1353092                3                2                 1   \n",
      "672  1354840                2                1                 1   \n",
      "673  1354840                5                3                 2   \n",
      "674  1355260                1                1                 1   \n",
      "675  1365075                4                1                 4   \n",
      "676  1365328                1                1                 2   \n",
      "677  1368267                5                1                 1   \n",
      "678  1368273                1                1                 1   \n",
      "679  1368882                2                1                 1   \n",
      "680  1369821               10               10                10   \n",
      "681  1371026                5               10                10   \n",
      "682  1371920                5                1                 1   \n",
      "683   466906                1                1                 1   \n",
      "684   466906                1                1                 1   \n",
      "685   534555                1                1                 1   \n",
      "686   536708                1                1                 1   \n",
      "687   566346                3                1                 1   \n",
      "688   603148                4                1                 1   \n",
      "689   654546                1                1                 1   \n",
      "690   654546                1                1                 1   \n",
      "691   695091                5               10                10   \n",
      "692   714039                3                1                 1   \n",
      "693   763235                3                1                 1   \n",
      "694   776715                3                1                 1   \n",
      "695   841769                2                1                 1   \n",
      "696   888820                5               10                10   \n",
      "697   897471                4                8                 6   \n",
      "698   897471                4                8                 8   \n",
      "\n",
      "     marginal_adhesion  epithelial_size bare_nucleoli  bland_chromatin  \\\n",
      "0                    1                2             1                3   \n",
      "1                    5                7            10                3   \n",
      "2                    1                2             2                3   \n",
      "3                    1                3             4                3   \n",
      "4                    3                2             1                3   \n",
      "5                    8                7            10                9   \n",
      "6                    1                2            10                3   \n",
      "7                    1                2             1                3   \n",
      "8                    1                2             1                1   \n",
      "9                    1                2             1                2   \n",
      "10                   1                1             1                3   \n",
      "11                   1                2             1                2   \n",
      "12                   3                2             3                4   \n",
      "13                   1                2             3                3   \n",
      "14                  10                7             9                5   \n",
      "15                   4                6             1                4   \n",
      "16                   1                2             1                2   \n",
      "17                   1                2             1                3   \n",
      "18                   6                4            10                4   \n",
      "19                   1                2             1                3   \n",
      "20                  10                5            10                5   \n",
      "21                   3                6             7                7   \n",
      "22                   1                2             1                2   \n",
      "23                   1                2             ?                7   \n",
      "24                   1                2             1                3   \n",
      "25                   4                2             7                3   \n",
      "26                   1                1             1                2   \n",
      "27                   1                2             1                2   \n",
      "28                   1                2             1                2   \n",
      "29                   1                2             1                1   \n",
      "..                 ...              ...           ...              ...   \n",
      "669                  8                5             5                7   \n",
      "670                  8                5             8                7   \n",
      "671                  2                2             1                3   \n",
      "672                  1                2             1                3   \n",
      "673                  1                3             1                1   \n",
      "674                  1                2             1                2   \n",
      "675                  1                2             1                1   \n",
      "676                  1                2             1                2   \n",
      "677                  1                2             1                1   \n",
      "678                  1                2             1                1   \n",
      "679                  1                2             1                1   \n",
      "680                 10                5            10               10   \n",
      "681                 10                4            10                5   \n",
      "682                  1                2             1                3   \n",
      "683                  1                2             1                1   \n",
      "684                  1                2             1                1   \n",
      "685                  1                2             1                1   \n",
      "686                  1                2             1                1   \n",
      "687                  1                2             1                2   \n",
      "688                  1                2             1                1   \n",
      "689                  1                2             1                1   \n",
      "690                  3                2             1                1   \n",
      "691                  5                4             5                4   \n",
      "692                  1                2             1                1   \n",
      "693                  1                2             1                2   \n",
      "694                  1                3             2                1   \n",
      "695                  1                2             1                1   \n",
      "696                  3                7             3                8   \n",
      "697                  4                3             4               10   \n",
      "698                  5                4             5               10   \n",
      "\n",
      "     normal_nucleoli  mitoses  class  \n",
      "0                  1        1      2  \n",
      "1                  2        1      2  \n",
      "2                  1        1      2  \n",
      "3                  7        1      2  \n",
      "4                  1        1      2  \n",
      "5                  7        1      4  \n",
      "6                  1        1      2  \n",
      "7                  1        1      2  \n",
      "8                  1        5      2  \n",
      "9                  1        1      2  \n",
      "10                 1        1      2  \n",
      "11                 1        1      2  \n",
      "12                 4        1      4  \n",
      "13                 1        1      2  \n",
      "14                 5        4      4  \n",
      "15                 3        1      4  \n",
      "16                 1        1      2  \n",
      "17                 1        1      2  \n",
      "18                 1        2      4  \n",
      "19                 1        1      2  \n",
      "20                 4        4      4  \n",
      "21                10        1      4  \n",
      "22                 1        1      2  \n",
      "23                 3        1      4  \n",
      "24                 1        1      2  \n",
      "25                 6        1      4  \n",
      "26                 1        1      2  \n",
      "27                 1        1      2  \n",
      "28                 1        1      2  \n",
      "29                 1        1      2  \n",
      "..               ...      ...    ...  \n",
      "669               10        1      4  \n",
      "670                4        1      4  \n",
      "671                1        1      2  \n",
      "672                1        1      2  \n",
      "673                1        1      2  \n",
      "674                1        1      2  \n",
      "675                1        1      2  \n",
      "676                1        1      2  \n",
      "677                1        1      2  \n",
      "678                1        1      2  \n",
      "679                1        1      2  \n",
      "680               10        7      4  \n",
      "681                6        3      4  \n",
      "682                2        1      2  \n",
      "683                1        1      2  \n",
      "684                1        1      2  \n",
      "685                1        1      2  \n",
      "686                1        1      2  \n",
      "687                3        1      2  \n",
      "688                1        1      2  \n",
      "689                1        8      2  \n",
      "690                1        1      2  \n",
      "691                4        1      4  \n",
      "692                1        1      2  \n",
      "693                1        2      2  \n",
      "694                1        1      2  \n",
      "695                1        1      2  \n",
      "696               10        2      4  \n",
      "697                6        1      4  \n",
      "698                4        1      4  \n",
      "\n",
      "[699 rows x 11 columns]\n"
     ]
    }
   ],
   "source": [
    "import pandas\n",
    "import sklearn\n",
    "import numpy as np\n",
    "from sklearn.ensemble import RandomForestClassifier as RFC\n",
    "from sklearn import cross_validation as cv\n",
    "from sklearn import metrics\n",
    "from sklearn.preprocessing import Imputer\n",
    "from sklearn.neighbors import KNeighborsClassifier as KNN\n",
    "from sklearn.linear_model import SGDClassifier\n",
    "import matplotlib.pyplot as plt\n",
    "\n",
    "##Part 1a) Data Cleaning:\n",
    "g_data = pandas.read_csv('breast-cancer-wisconsin.csv')\n",
    "print(g_data)\n",
    "acc=0\n",
    "for n in g_data[\"bare_nucleoli\"]:\n",
    "    if n!=\"?\":\n",
    "        acc+=float(n)\n",
    "        mean = acc/len(g_data[\"bare_nucleoli\"])\n",
    "        \n",
    "G_Data=g_data.replace(\"?\",mean)\n",
    "(g_train,g_test) = cv.train_test_split(G_Data, test_size=0.24)\n",
    "\n",
    "predictors = [\"clump_thickness\",\"size_uniformity\",\"shape_uniformity\",\"marginal_adhesion\",\"epithelial_size\",\"bare_nucleoli\",\"bland_chromatin\",\"normal_nucleoli\",\"mitoses\"]\n"
   ]
  },
  {
   "cell_type": "markdown",
   "metadata": {},
   "source": [
    "Question 1B: (6 points) Using either the scikit-learnSGDClassifier or Perceptron algorithm, perform an experiment to determine how well the classifier works on your data set. In your write-up, discuss the results. You will need to convince me that you have selected appropriate parameters for learning (e.g., learning rate, number of epochs). You will probably need to include a plot (or plots) of some sort to demonstrate this. Any data points you include should be averages over several runs (say 20?) with different training/testing splits to ensure that the results aren't simply due to luck.\n"
   ]
  },
  {
   "cell_type": "code",
   "execution_count": 100,
   "metadata": {
    "collapsed": false
   },
   "outputs": [
    {
     "name": "stdout",
     "output_type": "stream",
     "text": [
      "[0.83750000000000002, 0.9007142857142858, 0.92428571428571438, 0.95499999999999985, 0.95714285714285707, 0.94964285714285701, 0.94499999999999995, 0.94535714285714278, 0.94785714285714273, 0.94785714285714262]\n"
     ]
    },
    {
     "data": {
      "image/png": "[encoded data removed]",
      "text/plain": [
       "<matplotlib.figure.Figure at 0x119b1a0b8>"
      ]
     },
     "metadata": {},
     "output_type": "display_data"
    }
   ],
   "source": [
    "predictors = [\"clump_thickness\",\"size_uniformity\",\"shape_uniformity\",\"marginal_adhesion\",\\\n",
    "              \"epithelial_size\",\"bare_nucleoli\",\"bland_chromatin\",\"normal_nucleoli\",\"mitoses\"]\n",
    "\n",
    "y_values=[]\n",
    "x_values=[1,5,10,25,50,100,500,1000,5000,10000] # numbers of learning rate\n",
    "(g_train,g_test) = cv.train_test_split(G_Data, test_size=0.2)\n",
    "\n",
    "for i in x_values:\n",
    "    SGD = SGDClassifier(n_iter=i)\n",
    "    total=0\n",
    "    count=0\n",
    "    average_accuracy=0\n",
    "    \n",
    "    for j in range(0,20):\n",
    "        SGD.fit(g_train[predictors],g_train[\"class\"])\n",
    "        SGD_predictions=SGD.predict(g_test[predictors])\n",
    "        total += metrics.accuracy_score(g_test[\"class\"],SGD_predictions)\n",
    "        count = count + 1\n",
    "    \n",
    "    average_accuracy = total / count\n",
    "    y_values.append(average_accuracy)\n",
    "print(y_values)\n",
    "#print(np.amax(y_value)) \n",
    "#max function using numpy to find the highest rate in array.\n",
    "\n",
    "%matplotlib inline\n",
    "plt.suptitle('Classification Accuracy Performance')\n",
    "plt.xlabel('Number of Epochs')\n",
    "plt.ylabel('Accuracy')\n",
    "plt.plot(x_values,y_values,'bo-',label='# of epochs')\n",
    "plt.legend(loc='best',shadow=True)\n",
    "plt.axis([0,10000,0.5,1])\n",
    "plt.show()"
   ]
  },
  {
   "cell_type": "markdown",
   "metadata": {},
   "source": [
    "In this question, I used Scikit-Learn SGDClassifier to perform my test analysis. \n",
    "\n",
    "Changing Variable: n_iter=i\n",
    "\n",
    "In order to get the best accuracy performance by using SGDClassifier, I have selected different epochs values (x_values) for the machine to loop through 20 times and get the highest accuracy rate. \n",
    "\n",
    "Average accuracy rates are then appended into y_values. From the result above, we can see that the accuracy performance is pretty stagnant after n_iter>100. The best epochs value is 50.\n",
    "\n",
    "10/30/2016:\n",
    "P/S: I'd also tried to run with different splitting size, and overall the accuracy still maintain at >.9.\n",
    "\n"
   ]
  },
  {
   "cell_type": "code",
   "execution_count": 77,
   "metadata": {
    "collapsed": false
   },
   "outputs": [
    {
     "name": "stdout",
     "output_type": "stream",
     "text": [
      "[0.97071428571428553, 0.96392857142857125, 0.97464285714285714, 0.96178571428571402, 0.96142857142857108, 0.96928571428571408]\n"
     ]
    },
    {
     "data": {
      "image/png": "[encoded data removed]",
      "text/plain": [
       "<matplotlib.figure.Figure at 0x119aa0550>"
      ]
     },
     "metadata": {},
     "output_type": "display_data"
    }
   ],
   "source": [
    "predictors = [\"clump_thickness\",\"size_uniformity\",\"shape_uniformity\",\"marginal_adhesion\",\\\n",
    "              \"epithelial_size\",\"bare_nucleoli\",\"bland_chromatin\",\"normal_nucleoli\",\"mitoses\"]\n",
    "\n",
    "y_value=[]\n",
    "x_value=[.0000001,.00001,.0001,.001,.01,.1] # numbers of learning rate\n",
    "(g_train,g_test) = cv.train_test_split(G_Data, test_size=0.2)\n",
    "\n",
    "for i in x_value:\n",
    "    SGD = SGDClassifier(eta0=i)\n",
    "    total=0\n",
    "    count=0\n",
    "    average_accuracy=0\n",
    "    \n",
    "    for j in range(0,20):\n",
    "        SGD.fit(g_train[predictors],g_train[\"class\"])\n",
    "        SGD_predictions=SGD.predict(g_test[predictors])\n",
    "        #print(SGD_predictions)\n",
    "        #print(g_test['class'])\n",
    "        total += metrics.accuracy_score(g_test[\"class\"],SGD_predictions)\n",
    "        count = count + 1\n",
    "    \n",
    "    average_accuracy = total / count\n",
    "    y_value.append(average_accuracy)\n",
    "print(y_value)\n",
    "#print(np.amax(y_value)) \n",
    "#max function using numpy to find the highest rate in array.\n",
    "\n",
    "%matplotlib inline\n",
    "plt.suptitle('Classification Accuracy Performance of eta0')\n",
    "plt.xlabel('Number of Epochs')\n",
    "plt.ylabel('Accuracy')\n",
    "plt.plot(x_value,y_value,'bo-',label='# of eta0')\n",
    "plt.legend(loc='best',shadow=True)\n",
    "plt.axis([0.0000001,.1,0.5,1])\n",
    "plt.show()"
   ]
  },
  {
   "cell_type": "markdown",
   "metadata": {},
   "source": [
    "Question 1C:(6 points) Using a scikit-learn implementation of another classifier algorithm (e.g., k-Nearest-Neighbor, Random Forest, or Multilayer Perceptron), perform an experiment to determine how well the classifier works on your data set. In your write-up, discuss the results. You will need to convince me that you have selected appropriate parameters for learning (e.g., the number of neighbors, number of trees, etc.). You will probably need to include a plot (or plots) of some sort to demonstrate this. Any data points you include should be averages over several runs with different training/testing splits to ensure that the results aren't simply due to luck.\n",
    "\n",
    "10/27/2016\n",
    "Extras that I did in this question:\n",
    "\n",
    "I used rfc.feature_importances attribute to sort out the importances of target column, and create a new predictor column that only consider those columns which had high importance rate.\n",
    "\n",
    "From the graph you can clearly see the importances of each target column by using RFC method.\n",
    "\n",
    "P/S: I used criterion ='entropy' in all my RFC method below. (I did test it myself with other criterions and 'entropy' is the best option.\n"
   ]
  },
  {
   "cell_type": "code",
   "execution_count": 78,
   "metadata": {
    "collapsed": false
   },
   "outputs": [
    {
     "data": {
      "image/png": "[encoded data removed]",
      "text/plain": [
       "<matplotlib.figure.Figure at 0x1163931d0>"
      ]
     },
     "metadata": {},
     "output_type": "display_data"
    }
   ],
   "source": [
    "from sklearn.ensemble import RandomForestClassifier as RFC\n",
    "%matplotlib inline\n",
    "import matplotlib.pyplot as plt\n",
    "\n",
    "rfc = RFC(n_estimators=100,random_state=0,criterion='entropy')\n",
    "X=g_train[predictors]\n",
    "y=g_train[\"class\"]\n",
    "rfc.fit(X, y)\n",
    "importances = rfc.feature_importances_\n",
    "\n",
    "#Sort the features ranking and append the result into predictors array\n",
    "#Compute the standard deviation along the specified axis.\n",
    "std = np.std([rfc.feature_importances_ for tree in rfc.estimators_],axis=0)\n",
    "indices = np.argsort(importances)[::-1]\n",
    "lable_features_sorted=[]\n",
    "for i in indices:\n",
    "     lable_features_sorted.append(predictors[i])\n",
    "        \n",
    "\n",
    "plt.title(\"Feature importances\")\n",
    "plt.bar(range(X.shape[1]), importances[indices],color=\"m\", yerr=std[indices], align=\"center\")\n",
    "plt.xticks(range(X.shape[1]),lable_features_sorted ,rotation=90)\n",
    "plt.show()\n",
    "\n",
    "#print(importances)"
   ]
  },
  {
   "cell_type": "code",
   "execution_count": 90,
   "metadata": {
    "collapsed": false
   },
   "outputs": [
    {
     "name": "stdout",
     "output_type": "stream",
     "text": [
      "0.985714285714\n",
      "0.978571428571\n"
     ]
    }
   ],
   "source": [
    "new_predictors= [\"size_uniformity\",\"shape_uniformity\",\"bland_chromatin\",\"bare_nucleoli\"]\n",
    "predictors = [\"clump_thickness\",\"size_uniformity\",\"shape_uniformity\",\"marginal_adhesion\",\\\n",
    "              \"epithelial_size\",\"bare_nucleoli\",\"bland_chromatin\",\"normal_nucleoli\",\"mitoses\"]\n",
    "\n",
    "#To show the difference of new_preditors vs predictors\n",
    "rfc = RFC(criterion='entropy')\n",
    "rfc.fit(g_train[new_predictors],g_train[\"class\"])\n",
    "g_predictions1 = rfc.predict(g_test[new_predictors])\n",
    "print(metrics.accuracy_score(g_test[\"class\"],g_predictions1))\n",
    "\n",
    "rfc = RFC(criterion='entropy')\n",
    "rfc.fit(g_train[predictors],g_train[\"class\"])\n",
    "g_predictions2= rfc.predict(g_test[predictors])\n",
    "print(metrics.accuracy_score(g_test[\"class\"],g_predictions2))\n"
   ]
  },
  {
   "cell_type": "code",
   "execution_count": 96,
   "metadata": {
    "collapsed": false
   },
   "outputs": [
    {
     "name": "stdout",
     "output_type": "stream",
     "text": [
      "[0.94357142857142828, 0.95499999999999985, 0.9553571428571429, 0.96678571428571414, 0.96392857142857125, 0.96714285714285708, 0.97107142857142836, 0.9735714285714282]\n"
     ]
    },
    {
     "data": {
      "image/png": "[encoded data removed]",
      "text/plain": [
       "<matplotlib.figure.Figure at 0x119e0e550>"
      ]
     },
     "metadata": {},
     "output_type": "display_data"
    }
   ],
   "source": [
    "x_array=[1,5,10,25,50,100,500,1000]\n",
    "y_array=[]\n",
    "(g_train,g_test) = cv.train_test_split(G_Data, test_size=0.2)\n",
    "\n",
    "for i in x_array:\n",
    "    rfc = RFC(n_estimators=i,criterion='entropy')\n",
    "    total=0\n",
    "    count=0\n",
    "    average_accuracy=0\n",
    "    \n",
    "    for j in range(0,20):\n",
    "        rfc.fit(g_train[predictors],g_train[\"class\"])\n",
    "        rfc_predictions=rfc.predict(g_test[predictors])\n",
    "        #print(_predictions)\n",
    "        #print(g_test['class'])\n",
    "        total += metrics.accuracy_score(g_test[\"class\"],rfc_predictions)\n",
    "        count = count + 1\n",
    "    \n",
    "    average_accuracy = total / count\n",
    "    y_array.append(average_accuracy)\n",
    "print(y_array)\n",
    "#print(np.amax(y_array))\n",
    "\n",
    "%matplotlib inline\n",
    "plt.suptitle('RFC Accuracy Performance')\n",
    "plt.xlabel('n_estimators')\n",
    "plt.ylabel('Accuracy')\n",
    "plt.plot(x_array,y_array,'bo-',label='# of trees')\n",
    "plt.legend(loc='lower right',shadow=True)\n",
    "plt.axis([0,1000,0.5,1])\n",
    "plt.show()"
   ]
  },
  {
   "cell_type": "markdown",
   "metadata": {},
   "source": [
    "From the result above, we can clearly tell, by increasing the number of trees, the results shown an incremental improvement. I am not going to run a higher n_estimators than 1000 due to slow running time. \n",
    "\n",
    "P/S: This was tried on different splitting test size, and results are similar and shown an incremental improvement as n_estimators increase."
   ]
  },
  {
   "cell_type": "markdown",
   "metadata": {},
   "source": [
    "Question 1D:(3 points) Discuss conclusions in your write-up. Which algorithm performed better? Give reasons why you think that's the case.\n",
    "\n",
    "SGDClassfier vs RandomForestClassfier\n",
    "\n",
    "According to the result above, both classfier perform well and had accuracy >90%. However,\n",
    "based on the graph below, we can clearly tell RFC performs better than SGDClassifier.\n",
    "\n",
    "The reason I think RFC is a better algorithm is because I applied \"entropy\" criterion and sorted the target columns with their importances. This allow me to remove the noise in the data and get a higher accuracy rate. \n"
   ]
  },
  {
   "cell_type": "code",
   "execution_count": 102,
   "metadata": {
    "collapsed": false
   },
   "outputs": [
    {
     "data": {
      "image/png": "[encoded data removed]",
      "text/plain": [
       "<matplotlib.figure.Figure at 0x11a4477b8>"
      ]
     },
     "metadata": {},
     "output_type": "display_data"
    }
   ],
   "source": [
    "%matplotlib inline\n",
    "plt.suptitle('SGDCLassifier V.S RandomForestClassifier')\n",
    "plt.xlabel('N_iter/N_estimators')\n",
    "plt.ylabel('Accuracy')\n",
    "plt.plot(x_values,y_values,'rs-',label='# of epochs')\n",
    "plt.plot(x_array,y_array,'bo-',label='# of trees')\n",
    "plt.legend(loc='lower right',shadow=True)\n",
    "plt.axis([0,1000,0.5,1])\n",
    "plt.show()"
   ]
  },
  {
   "cell_type": "code",
   "execution_count": null,
   "metadata": {
    "collapsed": true
   },
   "outputs": [],
   "source": []
  }
 ],
 "metadata": {
  "kernelspec": {
   "display_name": "Python [Root]",
   "language": "python",
   "name": "Python [Root]"
  },
  "language_info": {
   "codemirror_mode": {
    "name": "ipython",
    "version": 3
   },
   "file_extension": ".py",
   "mimetype": "text/x-python",
   "name": "python",
   "nbconvert_exporter": "python",
   "pygments_lexer": "ipython3",
   "version": "3.5.2"
  }
 },
 "nbformat": 4,
 "nbformat_minor": 0
}
